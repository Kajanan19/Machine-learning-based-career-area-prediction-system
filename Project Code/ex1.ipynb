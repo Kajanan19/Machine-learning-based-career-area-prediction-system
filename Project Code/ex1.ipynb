{
 "cells": [
  {
   "cell_type": "code",
   "execution_count": 4,
   "metadata": {},
   "outputs": [],
   "source": [
    "import pandas as pd\n",
    "import numpy as np\n",
    "from sklearn import decomposition\n",
    "import matplotlib.pyplot as plt"
   ]
  },
  {
   "cell_type": "code",
   "execution_count": 23,
   "metadata": {},
   "outputs": [],
   "source": [
    "dataset = pd.read_csv(\"roo_data.csv\")"
   ]
  },
  {
   "cell_type": "code",
   "execution_count": 24,
   "metadata": {},
   "outputs": [],
   "source": [
    "#dataset = dataset.iloc[:20000,:5].values\n",
    "\n"
   ]
  },
  {
   "cell_type": "code",
   "execution_count": 25,
   "metadata": {},
   "outputs": [
    {
     "data": {
      "text/html": [
       "<div>\n",
       "<style scoped>\n",
       "    .dataframe tbody tr th:only-of-type {\n",
       "        vertical-align: middle;\n",
       "    }\n",
       "\n",
       "    .dataframe tbody tr th {\n",
       "        vertical-align: top;\n",
       "    }\n",
       "\n",
       "    .dataframe thead th {\n",
       "        text-align: right;\n",
       "    }\n",
       "</style>\n",
       "<table border=\"1\" class=\"dataframe\">\n",
       "  <thead>\n",
       "    <tr style=\"text-align: right;\">\n",
       "      <th></th>\n",
       "      <th>Acedamic percentage in Operating Systems</th>\n",
       "      <th>percentage in Algorithms</th>\n",
       "      <th>Percentage in Programming Concepts</th>\n",
       "      <th>Percentage in Software Engineering</th>\n",
       "      <th>Percentage in Computer Networks</th>\n",
       "      <th>Percentage in Electronics Subjects</th>\n",
       "      <th>Percentage in Computer Architecture</th>\n",
       "      <th>Percentage in Mathematics</th>\n",
       "      <th>Percentage in Communication skills</th>\n",
       "      <th>Hours working per day</th>\n",
       "      <th>...</th>\n",
       "      <th>Interested Type of Books</th>\n",
       "      <th>Salary Range Expected</th>\n",
       "      <th>In a Realtionship?</th>\n",
       "      <th>Gentle or Tuff behaviour?</th>\n",
       "      <th>Management or Technical</th>\n",
       "      <th>Salary/work</th>\n",
       "      <th>hard/smart worker</th>\n",
       "      <th>worked in teams ever?</th>\n",
       "      <th>Introvert</th>\n",
       "      <th>Suggested Job Role</th>\n",
       "    </tr>\n",
       "  </thead>\n",
       "  <tbody>\n",
       "    <tr>\n",
       "      <th>0</th>\n",
       "      <td>69</td>\n",
       "      <td>63</td>\n",
       "      <td>78</td>\n",
       "      <td>87</td>\n",
       "      <td>94</td>\n",
       "      <td>94</td>\n",
       "      <td>87</td>\n",
       "      <td>84</td>\n",
       "      <td>61</td>\n",
       "      <td>9</td>\n",
       "      <td>...</td>\n",
       "      <td>Prayer books</td>\n",
       "      <td>salary</td>\n",
       "      <td>no</td>\n",
       "      <td>stubborn</td>\n",
       "      <td>Management</td>\n",
       "      <td>salary</td>\n",
       "      <td>hard worker</td>\n",
       "      <td>yes</td>\n",
       "      <td>no</td>\n",
       "      <td>Database Developer</td>\n",
       "    </tr>\n",
       "    <tr>\n",
       "      <th>1</th>\n",
       "      <td>78</td>\n",
       "      <td>62</td>\n",
       "      <td>73</td>\n",
       "      <td>60</td>\n",
       "      <td>71</td>\n",
       "      <td>70</td>\n",
       "      <td>73</td>\n",
       "      <td>84</td>\n",
       "      <td>91</td>\n",
       "      <td>12</td>\n",
       "      <td>...</td>\n",
       "      <td>Childrens</td>\n",
       "      <td>salary</td>\n",
       "      <td>yes</td>\n",
       "      <td>gentle</td>\n",
       "      <td>Technical</td>\n",
       "      <td>salary</td>\n",
       "      <td>hard worker</td>\n",
       "      <td>no</td>\n",
       "      <td>yes</td>\n",
       "      <td>Portal Administrator</td>\n",
       "    </tr>\n",
       "    <tr>\n",
       "      <th>2</th>\n",
       "      <td>71</td>\n",
       "      <td>86</td>\n",
       "      <td>91</td>\n",
       "      <td>87</td>\n",
       "      <td>61</td>\n",
       "      <td>81</td>\n",
       "      <td>72</td>\n",
       "      <td>72</td>\n",
       "      <td>94</td>\n",
       "      <td>11</td>\n",
       "      <td>...</td>\n",
       "      <td>Travel</td>\n",
       "      <td>Work</td>\n",
       "      <td>no</td>\n",
       "      <td>stubborn</td>\n",
       "      <td>Management</td>\n",
       "      <td>work</td>\n",
       "      <td>hard worker</td>\n",
       "      <td>no</td>\n",
       "      <td>yes</td>\n",
       "      <td>Portal Administrator</td>\n",
       "    </tr>\n",
       "    <tr>\n",
       "      <th>3</th>\n",
       "      <td>76</td>\n",
       "      <td>87</td>\n",
       "      <td>60</td>\n",
       "      <td>84</td>\n",
       "      <td>89</td>\n",
       "      <td>73</td>\n",
       "      <td>62</td>\n",
       "      <td>88</td>\n",
       "      <td>69</td>\n",
       "      <td>7</td>\n",
       "      <td>...</td>\n",
       "      <td>Romance</td>\n",
       "      <td>Work</td>\n",
       "      <td>yes</td>\n",
       "      <td>gentle</td>\n",
       "      <td>Management</td>\n",
       "      <td>work</td>\n",
       "      <td>smart worker</td>\n",
       "      <td>yes</td>\n",
       "      <td>yes</td>\n",
       "      <td>Systems Security Administrator</td>\n",
       "    </tr>\n",
       "    <tr>\n",
       "      <th>4</th>\n",
       "      <td>92</td>\n",
       "      <td>62</td>\n",
       "      <td>90</td>\n",
       "      <td>67</td>\n",
       "      <td>71</td>\n",
       "      <td>89</td>\n",
       "      <td>73</td>\n",
       "      <td>71</td>\n",
       "      <td>73</td>\n",
       "      <td>4</td>\n",
       "      <td>...</td>\n",
       "      <td>Cookbooks</td>\n",
       "      <td>salary</td>\n",
       "      <td>no</td>\n",
       "      <td>stubborn</td>\n",
       "      <td>Management</td>\n",
       "      <td>work</td>\n",
       "      <td>hard worker</td>\n",
       "      <td>yes</td>\n",
       "      <td>yes</td>\n",
       "      <td>Business Systems Analyst</td>\n",
       "    </tr>\n",
       "    <tr>\n",
       "      <th>...</th>\n",
       "      <td>...</td>\n",
       "      <td>...</td>\n",
       "      <td>...</td>\n",
       "      <td>...</td>\n",
       "      <td>...</td>\n",
       "      <td>...</td>\n",
       "      <td>...</td>\n",
       "      <td>...</td>\n",
       "      <td>...</td>\n",
       "      <td>...</td>\n",
       "      <td>...</td>\n",
       "      <td>...</td>\n",
       "      <td>...</td>\n",
       "      <td>...</td>\n",
       "      <td>...</td>\n",
       "      <td>...</td>\n",
       "      <td>...</td>\n",
       "      <td>...</td>\n",
       "      <td>...</td>\n",
       "      <td>...</td>\n",
       "      <td>...</td>\n",
       "    </tr>\n",
       "    <tr>\n",
       "      <th>19995</th>\n",
       "      <td>83</td>\n",
       "      <td>67</td>\n",
       "      <td>62</td>\n",
       "      <td>63</td>\n",
       "      <td>81</td>\n",
       "      <td>74</td>\n",
       "      <td>90</td>\n",
       "      <td>84</td>\n",
       "      <td>69</td>\n",
       "      <td>4</td>\n",
       "      <td>...</td>\n",
       "      <td>Journals</td>\n",
       "      <td>Work</td>\n",
       "      <td>yes</td>\n",
       "      <td>stubborn</td>\n",
       "      <td>Management</td>\n",
       "      <td>salary</td>\n",
       "      <td>smart worker</td>\n",
       "      <td>yes</td>\n",
       "      <td>no</td>\n",
       "      <td>Technical Engineer</td>\n",
       "    </tr>\n",
       "    <tr>\n",
       "      <th>19996</th>\n",
       "      <td>80</td>\n",
       "      <td>69</td>\n",
       "      <td>83</td>\n",
       "      <td>87</td>\n",
       "      <td>82</td>\n",
       "      <td>66</td>\n",
       "      <td>66</td>\n",
       "      <td>92</td>\n",
       "      <td>67</td>\n",
       "      <td>7</td>\n",
       "      <td>...</td>\n",
       "      <td>Cookbooks</td>\n",
       "      <td>salary</td>\n",
       "      <td>no</td>\n",
       "      <td>stubborn</td>\n",
       "      <td>Management</td>\n",
       "      <td>salary</td>\n",
       "      <td>hard worker</td>\n",
       "      <td>no</td>\n",
       "      <td>yes</td>\n",
       "      <td>E-Commerce Analyst</td>\n",
       "    </tr>\n",
       "    <tr>\n",
       "      <th>19997</th>\n",
       "      <td>83</td>\n",
       "      <td>70</td>\n",
       "      <td>80</td>\n",
       "      <td>87</td>\n",
       "      <td>64</td>\n",
       "      <td>85</td>\n",
       "      <td>69</td>\n",
       "      <td>94</td>\n",
       "      <td>88</td>\n",
       "      <td>7</td>\n",
       "      <td>...</td>\n",
       "      <td>Drama</td>\n",
       "      <td>Work</td>\n",
       "      <td>yes</td>\n",
       "      <td>gentle</td>\n",
       "      <td>Technical</td>\n",
       "      <td>work</td>\n",
       "      <td>hard worker</td>\n",
       "      <td>no</td>\n",
       "      <td>yes</td>\n",
       "      <td>Business Intelligence Analyst</td>\n",
       "    </tr>\n",
       "    <tr>\n",
       "      <th>19998</th>\n",
       "      <td>68</td>\n",
       "      <td>87</td>\n",
       "      <td>91</td>\n",
       "      <td>88</td>\n",
       "      <td>66</td>\n",
       "      <td>74</td>\n",
       "      <td>61</td>\n",
       "      <td>87</td>\n",
       "      <td>61</td>\n",
       "      <td>5</td>\n",
       "      <td>...</td>\n",
       "      <td>Travel</td>\n",
       "      <td>Work</td>\n",
       "      <td>no</td>\n",
       "      <td>gentle</td>\n",
       "      <td>Management</td>\n",
       "      <td>work</td>\n",
       "      <td>smart worker</td>\n",
       "      <td>yes</td>\n",
       "      <td>no</td>\n",
       "      <td>Software Quality Assurance (QA) / Testing</td>\n",
       "    </tr>\n",
       "    <tr>\n",
       "      <th>19999</th>\n",
       "      <td>73</td>\n",
       "      <td>77</td>\n",
       "      <td>74</td>\n",
       "      <td>84</td>\n",
       "      <td>70</td>\n",
       "      <td>65</td>\n",
       "      <td>92</td>\n",
       "      <td>73</td>\n",
       "      <td>90</td>\n",
       "      <td>7</td>\n",
       "      <td>...</td>\n",
       "      <td>Comics</td>\n",
       "      <td>Work</td>\n",
       "      <td>no</td>\n",
       "      <td>gentle</td>\n",
       "      <td>Management</td>\n",
       "      <td>work</td>\n",
       "      <td>hard worker</td>\n",
       "      <td>yes</td>\n",
       "      <td>no</td>\n",
       "      <td>Applications Developer</td>\n",
       "    </tr>\n",
       "  </tbody>\n",
       "</table>\n",
       "<p>20000 rows × 39 columns</p>\n",
       "</div>"
      ],
      "text/plain": [
       "       Acedamic percentage in Operating Systems  percentage in Algorithms  \\\n",
       "0                                            69                        63   \n",
       "1                                            78                        62   \n",
       "2                                            71                        86   \n",
       "3                                            76                        87   \n",
       "4                                            92                        62   \n",
       "...                                         ...                       ...   \n",
       "19995                                        83                        67   \n",
       "19996                                        80                        69   \n",
       "19997                                        83                        70   \n",
       "19998                                        68                        87   \n",
       "19999                                        73                        77   \n",
       "\n",
       "       Percentage in Programming Concepts  Percentage in Software Engineering  \\\n",
       "0                                      78                                  87   \n",
       "1                                      73                                  60   \n",
       "2                                      91                                  87   \n",
       "3                                      60                                  84   \n",
       "4                                      90                                  67   \n",
       "...                                   ...                                 ...   \n",
       "19995                                  62                                  63   \n",
       "19996                                  83                                  87   \n",
       "19997                                  80                                  87   \n",
       "19998                                  91                                  88   \n",
       "19999                                  74                                  84   \n",
       "\n",
       "       Percentage in Computer Networks  Percentage in Electronics Subjects  \\\n",
       "0                                   94                                  94   \n",
       "1                                   71                                  70   \n",
       "2                                   61                                  81   \n",
       "3                                   89                                  73   \n",
       "4                                   71                                  89   \n",
       "...                                ...                                 ...   \n",
       "19995                               81                                  74   \n",
       "19996                               82                                  66   \n",
       "19997                               64                                  85   \n",
       "19998                               66                                  74   \n",
       "19999                               70                                  65   \n",
       "\n",
       "       Percentage in Computer Architecture  Percentage in Mathematics  \\\n",
       "0                                       87                         84   \n",
       "1                                       73                         84   \n",
       "2                                       72                         72   \n",
       "3                                       62                         88   \n",
       "4                                       73                         71   \n",
       "...                                    ...                        ...   \n",
       "19995                                   90                         84   \n",
       "19996                                   66                         92   \n",
       "19997                                   69                         94   \n",
       "19998                                   61                         87   \n",
       "19999                                   92                         73   \n",
       "\n",
       "       Percentage in Communication skills  Hours working per day  ...  \\\n",
       "0                                      61                      9  ...   \n",
       "1                                      91                     12  ...   \n",
       "2                                      94                     11  ...   \n",
       "3                                      69                      7  ...   \n",
       "4                                      73                      4  ...   \n",
       "...                                   ...                    ...  ...   \n",
       "19995                                  69                      4  ...   \n",
       "19996                                  67                      7  ...   \n",
       "19997                                  88                      7  ...   \n",
       "19998                                  61                      5  ...   \n",
       "19999                                  90                      7  ...   \n",
       "\n",
       "       Interested Type of Books  Salary Range Expected  In a Realtionship?  \\\n",
       "0                  Prayer books                 salary                  no   \n",
       "1                     Childrens                 salary                 yes   \n",
       "2                        Travel                   Work                  no   \n",
       "3                       Romance                   Work                 yes   \n",
       "4                     Cookbooks                 salary                  no   \n",
       "...                         ...                    ...                 ...   \n",
       "19995                  Journals                   Work                 yes   \n",
       "19996                 Cookbooks                 salary                  no   \n",
       "19997                     Drama                   Work                 yes   \n",
       "19998                    Travel                   Work                  no   \n",
       "19999                    Comics                   Work                  no   \n",
       "\n",
       "       Gentle or Tuff behaviour? Management or Technical Salary/work  \\\n",
       "0                       stubborn              Management      salary   \n",
       "1                         gentle               Technical      salary   \n",
       "2                       stubborn              Management        work   \n",
       "3                         gentle              Management        work   \n",
       "4                       stubborn              Management        work   \n",
       "...                          ...                     ...         ...   \n",
       "19995                   stubborn              Management      salary   \n",
       "19996                   stubborn              Management      salary   \n",
       "19997                     gentle               Technical        work   \n",
       "19998                     gentle              Management        work   \n",
       "19999                     gentle              Management        work   \n",
       "\n",
       "      hard/smart worker worked in teams ever? Introvert  \\\n",
       "0           hard worker                   yes        no   \n",
       "1           hard worker                    no       yes   \n",
       "2           hard worker                    no       yes   \n",
       "3          smart worker                   yes       yes   \n",
       "4           hard worker                   yes       yes   \n",
       "...                 ...                   ...       ...   \n",
       "19995      smart worker                   yes        no   \n",
       "19996       hard worker                    no       yes   \n",
       "19997       hard worker                    no       yes   \n",
       "19998      smart worker                   yes        no   \n",
       "19999       hard worker                   yes        no   \n",
       "\n",
       "                              Suggested Job Role  \n",
       "0                             Database Developer  \n",
       "1                           Portal Administrator  \n",
       "2                           Portal Administrator  \n",
       "3                 Systems Security Administrator  \n",
       "4                       Business Systems Analyst  \n",
       "...                                          ...  \n",
       "19995                         Technical Engineer  \n",
       "19996                         E-Commerce Analyst  \n",
       "19997              Business Intelligence Analyst  \n",
       "19998  Software Quality Assurance (QA) / Testing  \n",
       "19999                     Applications Developer  \n",
       "\n",
       "[20000 rows x 39 columns]"
      ]
     },
     "execution_count": 25,
     "metadata": {},
     "output_type": "execute_result"
    }
   ],
   "source": [
    "dataset"
   ]
  },
  {
   "cell_type": "code",
   "execution_count": 26,
   "metadata": {},
   "outputs": [
    {
     "data": {
      "text/plain": [
       "38"
      ]
     },
     "execution_count": 26,
     "metadata": {},
     "output_type": "execute_result"
    }
   ],
   "source": [
    "data = dataset.iloc[:,:-1].values\n",
    "label = dataset.iloc[:,-1].values\n",
    "len(data[0])"
   ]
  },
  {
   "cell_type": "code",
   "execution_count": 27,
   "metadata": {},
   "outputs": [
    {
     "data": {
      "text/html": [
       "<div>\n",
       "<style scoped>\n",
       "    .dataframe tbody tr th:only-of-type {\n",
       "        vertical-align: middle;\n",
       "    }\n",
       "\n",
       "    .dataframe tbody tr th {\n",
       "        vertical-align: top;\n",
       "    }\n",
       "\n",
       "    .dataframe thead th {\n",
       "        text-align: right;\n",
       "    }\n",
       "</style>\n",
       "<table border=\"1\" class=\"dataframe\">\n",
       "  <thead>\n",
       "    <tr style=\"text-align: right;\">\n",
       "      <th></th>\n",
       "      <th>can work long time before system?</th>\n",
       "      <th>self-learning capability?</th>\n",
       "      <th>Extra-courses did</th>\n",
       "      <th>certifications</th>\n",
       "      <th>workshops</th>\n",
       "      <th>talenttests taken?</th>\n",
       "      <th>olympiads</th>\n",
       "      <th>reading and writing skills</th>\n",
       "      <th>memory capability score</th>\n",
       "      <th>Interested subjects</th>\n",
       "      <th>...</th>\n",
       "      <th>interested in games</th>\n",
       "      <th>Interested Type of Books</th>\n",
       "      <th>Salary Range Expected</th>\n",
       "      <th>In a Realtionship?</th>\n",
       "      <th>Gentle or Tuff behaviour?</th>\n",
       "      <th>Management or Technical</th>\n",
       "      <th>Salary/work</th>\n",
       "      <th>hard/smart worker</th>\n",
       "      <th>worked in teams ever?</th>\n",
       "      <th>Introvert</th>\n",
       "    </tr>\n",
       "  </thead>\n",
       "  <tbody>\n",
       "    <tr>\n",
       "      <th>0</th>\n",
       "      <td>yes</td>\n",
       "      <td>yes</td>\n",
       "      <td>yes</td>\n",
       "      <td>shell programming</td>\n",
       "      <td>cloud computing</td>\n",
       "      <td>no</td>\n",
       "      <td>yes</td>\n",
       "      <td>excellent</td>\n",
       "      <td>excellent</td>\n",
       "      <td>cloud computing</td>\n",
       "      <td>...</td>\n",
       "      <td>no</td>\n",
       "      <td>Prayer books</td>\n",
       "      <td>salary</td>\n",
       "      <td>no</td>\n",
       "      <td>stubborn</td>\n",
       "      <td>Management</td>\n",
       "      <td>salary</td>\n",
       "      <td>hard worker</td>\n",
       "      <td>yes</td>\n",
       "      <td>no</td>\n",
       "    </tr>\n",
       "    <tr>\n",
       "      <th>1</th>\n",
       "      <td>yes</td>\n",
       "      <td>no</td>\n",
       "      <td>yes</td>\n",
       "      <td>machine learning</td>\n",
       "      <td>database security</td>\n",
       "      <td>no</td>\n",
       "      <td>no</td>\n",
       "      <td>poor</td>\n",
       "      <td>medium</td>\n",
       "      <td>networks</td>\n",
       "      <td>...</td>\n",
       "      <td>yes</td>\n",
       "      <td>Childrens</td>\n",
       "      <td>salary</td>\n",
       "      <td>yes</td>\n",
       "      <td>gentle</td>\n",
       "      <td>Technical</td>\n",
       "      <td>salary</td>\n",
       "      <td>hard worker</td>\n",
       "      <td>no</td>\n",
       "      <td>yes</td>\n",
       "    </tr>\n",
       "    <tr>\n",
       "      <th>2</th>\n",
       "      <td>yes</td>\n",
       "      <td>no</td>\n",
       "      <td>yes</td>\n",
       "      <td>app development</td>\n",
       "      <td>web technologies</td>\n",
       "      <td>no</td>\n",
       "      <td>yes</td>\n",
       "      <td>poor</td>\n",
       "      <td>excellent</td>\n",
       "      <td>hacking</td>\n",
       "      <td>...</td>\n",
       "      <td>yes</td>\n",
       "      <td>Travel</td>\n",
       "      <td>Work</td>\n",
       "      <td>no</td>\n",
       "      <td>stubborn</td>\n",
       "      <td>Management</td>\n",
       "      <td>work</td>\n",
       "      <td>hard worker</td>\n",
       "      <td>no</td>\n",
       "      <td>yes</td>\n",
       "    </tr>\n",
       "    <tr>\n",
       "      <th>3</th>\n",
       "      <td>no</td>\n",
       "      <td>yes</td>\n",
       "      <td>no</td>\n",
       "      <td>python</td>\n",
       "      <td>data science</td>\n",
       "      <td>yes</td>\n",
       "      <td>no</td>\n",
       "      <td>medium</td>\n",
       "      <td>excellent</td>\n",
       "      <td>networks</td>\n",
       "      <td>...</td>\n",
       "      <td>no</td>\n",
       "      <td>Romance</td>\n",
       "      <td>Work</td>\n",
       "      <td>yes</td>\n",
       "      <td>gentle</td>\n",
       "      <td>Management</td>\n",
       "      <td>work</td>\n",
       "      <td>smart worker</td>\n",
       "      <td>yes</td>\n",
       "      <td>yes</td>\n",
       "    </tr>\n",
       "    <tr>\n",
       "      <th>4</th>\n",
       "      <td>no</td>\n",
       "      <td>no</td>\n",
       "      <td>no</td>\n",
       "      <td>app development</td>\n",
       "      <td>cloud computing</td>\n",
       "      <td>no</td>\n",
       "      <td>no</td>\n",
       "      <td>poor</td>\n",
       "      <td>excellent</td>\n",
       "      <td>Computer Architecture</td>\n",
       "      <td>...</td>\n",
       "      <td>yes</td>\n",
       "      <td>Cookbooks</td>\n",
       "      <td>salary</td>\n",
       "      <td>no</td>\n",
       "      <td>stubborn</td>\n",
       "      <td>Management</td>\n",
       "      <td>work</td>\n",
       "      <td>hard worker</td>\n",
       "      <td>yes</td>\n",
       "      <td>yes</td>\n",
       "    </tr>\n",
       "    <tr>\n",
       "      <th>...</th>\n",
       "      <td>...</td>\n",
       "      <td>...</td>\n",
       "      <td>...</td>\n",
       "      <td>...</td>\n",
       "      <td>...</td>\n",
       "      <td>...</td>\n",
       "      <td>...</td>\n",
       "      <td>...</td>\n",
       "      <td>...</td>\n",
       "      <td>...</td>\n",
       "      <td>...</td>\n",
       "      <td>...</td>\n",
       "      <td>...</td>\n",
       "      <td>...</td>\n",
       "      <td>...</td>\n",
       "      <td>...</td>\n",
       "      <td>...</td>\n",
       "      <td>...</td>\n",
       "      <td>...</td>\n",
       "      <td>...</td>\n",
       "      <td>...</td>\n",
       "    </tr>\n",
       "    <tr>\n",
       "      <th>19995</th>\n",
       "      <td>yes</td>\n",
       "      <td>no</td>\n",
       "      <td>no</td>\n",
       "      <td>app development</td>\n",
       "      <td>cloud computing</td>\n",
       "      <td>yes</td>\n",
       "      <td>no</td>\n",
       "      <td>poor</td>\n",
       "      <td>excellent</td>\n",
       "      <td>Software Engineering</td>\n",
       "      <td>...</td>\n",
       "      <td>yes</td>\n",
       "      <td>Journals</td>\n",
       "      <td>Work</td>\n",
       "      <td>yes</td>\n",
       "      <td>stubborn</td>\n",
       "      <td>Management</td>\n",
       "      <td>salary</td>\n",
       "      <td>smart worker</td>\n",
       "      <td>yes</td>\n",
       "      <td>no</td>\n",
       "    </tr>\n",
       "    <tr>\n",
       "      <th>19996</th>\n",
       "      <td>yes</td>\n",
       "      <td>no</td>\n",
       "      <td>no</td>\n",
       "      <td>full stack</td>\n",
       "      <td>game development</td>\n",
       "      <td>no</td>\n",
       "      <td>yes</td>\n",
       "      <td>medium</td>\n",
       "      <td>excellent</td>\n",
       "      <td>Management</td>\n",
       "      <td>...</td>\n",
       "      <td>yes</td>\n",
       "      <td>Cookbooks</td>\n",
       "      <td>salary</td>\n",
       "      <td>no</td>\n",
       "      <td>stubborn</td>\n",
       "      <td>Management</td>\n",
       "      <td>salary</td>\n",
       "      <td>hard worker</td>\n",
       "      <td>no</td>\n",
       "      <td>yes</td>\n",
       "    </tr>\n",
       "    <tr>\n",
       "      <th>19997</th>\n",
       "      <td>yes</td>\n",
       "      <td>yes</td>\n",
       "      <td>yes</td>\n",
       "      <td>information security</td>\n",
       "      <td>database security</td>\n",
       "      <td>yes</td>\n",
       "      <td>yes</td>\n",
       "      <td>medium</td>\n",
       "      <td>excellent</td>\n",
       "      <td>networks</td>\n",
       "      <td>...</td>\n",
       "      <td>yes</td>\n",
       "      <td>Drama</td>\n",
       "      <td>Work</td>\n",
       "      <td>yes</td>\n",
       "      <td>gentle</td>\n",
       "      <td>Technical</td>\n",
       "      <td>work</td>\n",
       "      <td>hard worker</td>\n",
       "      <td>no</td>\n",
       "      <td>yes</td>\n",
       "    </tr>\n",
       "    <tr>\n",
       "      <th>19998</th>\n",
       "      <td>no</td>\n",
       "      <td>no</td>\n",
       "      <td>no</td>\n",
       "      <td>full stack</td>\n",
       "      <td>cloud computing</td>\n",
       "      <td>no</td>\n",
       "      <td>yes</td>\n",
       "      <td>poor</td>\n",
       "      <td>poor</td>\n",
       "      <td>IOT</td>\n",
       "      <td>...</td>\n",
       "      <td>no</td>\n",
       "      <td>Travel</td>\n",
       "      <td>Work</td>\n",
       "      <td>no</td>\n",
       "      <td>gentle</td>\n",
       "      <td>Management</td>\n",
       "      <td>work</td>\n",
       "      <td>smart worker</td>\n",
       "      <td>yes</td>\n",
       "      <td>no</td>\n",
       "    </tr>\n",
       "    <tr>\n",
       "      <th>19999</th>\n",
       "      <td>yes</td>\n",
       "      <td>yes</td>\n",
       "      <td>yes</td>\n",
       "      <td>app development</td>\n",
       "      <td>database security</td>\n",
       "      <td>no</td>\n",
       "      <td>yes</td>\n",
       "      <td>excellent</td>\n",
       "      <td>excellent</td>\n",
       "      <td>IOT</td>\n",
       "      <td>...</td>\n",
       "      <td>no</td>\n",
       "      <td>Comics</td>\n",
       "      <td>Work</td>\n",
       "      <td>no</td>\n",
       "      <td>gentle</td>\n",
       "      <td>Management</td>\n",
       "      <td>work</td>\n",
       "      <td>hard worker</td>\n",
       "      <td>yes</td>\n",
       "      <td>no</td>\n",
       "    </tr>\n",
       "  </tbody>\n",
       "</table>\n",
       "<p>20000 rows × 24 columns</p>\n",
       "</div>"
      ],
      "text/plain": [
       "      can work long time before system? self-learning capability?  \\\n",
       "0                                   yes                       yes   \n",
       "1                                   yes                        no   \n",
       "2                                   yes                        no   \n",
       "3                                    no                       yes   \n",
       "4                                    no                        no   \n",
       "...                                 ...                       ...   \n",
       "19995                               yes                        no   \n",
       "19996                               yes                        no   \n",
       "19997                               yes                       yes   \n",
       "19998                                no                        no   \n",
       "19999                               yes                       yes   \n",
       "\n",
       "      Extra-courses did        certifications          workshops  \\\n",
       "0                   yes     shell programming    cloud computing   \n",
       "1                   yes      machine learning  database security   \n",
       "2                   yes       app development   web technologies   \n",
       "3                    no                python       data science   \n",
       "4                    no       app development    cloud computing   \n",
       "...                 ...                   ...                ...   \n",
       "19995                no       app development    cloud computing   \n",
       "19996                no            full stack   game development   \n",
       "19997               yes  information security  database security   \n",
       "19998                no            full stack    cloud computing   \n",
       "19999               yes       app development  database security   \n",
       "\n",
       "      talenttests taken? olympiads reading and writing skills  \\\n",
       "0                     no       yes                  excellent   \n",
       "1                     no        no                       poor   \n",
       "2                     no       yes                       poor   \n",
       "3                    yes        no                     medium   \n",
       "4                     no        no                       poor   \n",
       "...                  ...       ...                        ...   \n",
       "19995                yes        no                       poor   \n",
       "19996                 no       yes                     medium   \n",
       "19997                yes       yes                     medium   \n",
       "19998                 no       yes                       poor   \n",
       "19999                 no       yes                  excellent   \n",
       "\n",
       "      memory capability score    Interested subjects  ... interested in games  \\\n",
       "0                   excellent        cloud computing  ...                  no   \n",
       "1                      medium               networks  ...                 yes   \n",
       "2                   excellent                hacking  ...                 yes   \n",
       "3                   excellent               networks  ...                  no   \n",
       "4                   excellent  Computer Architecture  ...                 yes   \n",
       "...                       ...                    ...  ...                 ...   \n",
       "19995               excellent   Software Engineering  ...                 yes   \n",
       "19996               excellent             Management  ...                 yes   \n",
       "19997               excellent               networks  ...                 yes   \n",
       "19998                    poor                    IOT  ...                  no   \n",
       "19999               excellent                    IOT  ...                  no   \n",
       "\n",
       "      Interested Type of Books Salary Range Expected In a Realtionship?  \\\n",
       "0                 Prayer books                salary                 no   \n",
       "1                    Childrens                salary                yes   \n",
       "2                       Travel                  Work                 no   \n",
       "3                      Romance                  Work                yes   \n",
       "4                    Cookbooks                salary                 no   \n",
       "...                        ...                   ...                ...   \n",
       "19995                 Journals                  Work                yes   \n",
       "19996                Cookbooks                salary                 no   \n",
       "19997                    Drama                  Work                yes   \n",
       "19998                   Travel                  Work                 no   \n",
       "19999                   Comics                  Work                 no   \n",
       "\n",
       "      Gentle or Tuff behaviour? Management or Technical Salary/work  \\\n",
       "0                      stubborn              Management      salary   \n",
       "1                        gentle               Technical      salary   \n",
       "2                      stubborn              Management        work   \n",
       "3                        gentle              Management        work   \n",
       "4                      stubborn              Management        work   \n",
       "...                         ...                     ...         ...   \n",
       "19995                  stubborn              Management      salary   \n",
       "19996                  stubborn              Management      salary   \n",
       "19997                    gentle               Technical        work   \n",
       "19998                    gentle              Management        work   \n",
       "19999                    gentle              Management        work   \n",
       "\n",
       "      hard/smart worker worked in teams ever? Introvert  \n",
       "0           hard worker                   yes        no  \n",
       "1           hard worker                    no       yes  \n",
       "2           hard worker                    no       yes  \n",
       "3          smart worker                   yes       yes  \n",
       "4           hard worker                   yes       yes  \n",
       "...                 ...                   ...       ...  \n",
       "19995      smart worker                   yes        no  \n",
       "19996       hard worker                    no       yes  \n",
       "19997       hard worker                    no       yes  \n",
       "19998      smart worker                   yes        no  \n",
       "19999       hard worker                   yes        no  \n",
       "\n",
       "[20000 rows x 24 columns]"
      ]
     },
     "execution_count": 27,
     "metadata": {},
     "output_type": "execute_result"
    }
   ],
   "source": [
    "dataset.iloc[:,14:38]"
   ]
  },
  {
   "cell_type": "code",
   "execution_count": 28,
   "metadata": {},
   "outputs": [
    {
     "data": {
      "text/html": [
       "<div>\n",
       "<style scoped>\n",
       "    .dataframe tbody tr th:only-of-type {\n",
       "        vertical-align: middle;\n",
       "    }\n",
       "\n",
       "    .dataframe tbody tr th {\n",
       "        vertical-align: top;\n",
       "    }\n",
       "\n",
       "    .dataframe thead th {\n",
       "        text-align: right;\n",
       "    }\n",
       "</style>\n",
       "<table border=\"1\" class=\"dataframe\">\n",
       "  <thead>\n",
       "    <tr style=\"text-align: right;\">\n",
       "      <th></th>\n",
       "      <th>Acedamic percentage in Operating Systems</th>\n",
       "      <th>percentage in Algorithms</th>\n",
       "      <th>Percentage in Programming Concepts</th>\n",
       "      <th>Percentage in Software Engineering</th>\n",
       "      <th>Percentage in Computer Networks</th>\n",
       "      <th>Percentage in Electronics Subjects</th>\n",
       "      <th>Percentage in Computer Architecture</th>\n",
       "      <th>Percentage in Mathematics</th>\n",
       "      <th>Percentage in Communication skills</th>\n",
       "      <th>Hours working per day</th>\n",
       "      <th>Logical quotient rating</th>\n",
       "      <th>hackathons</th>\n",
       "      <th>coding skills rating</th>\n",
       "      <th>public speaking points</th>\n",
       "    </tr>\n",
       "  </thead>\n",
       "  <tbody>\n",
       "    <tr>\n",
       "      <th>0</th>\n",
       "      <td>69</td>\n",
       "      <td>63</td>\n",
       "      <td>78</td>\n",
       "      <td>87</td>\n",
       "      <td>94</td>\n",
       "      <td>94</td>\n",
       "      <td>87</td>\n",
       "      <td>84</td>\n",
       "      <td>61</td>\n",
       "      <td>9</td>\n",
       "      <td>4</td>\n",
       "      <td>0</td>\n",
       "      <td>4</td>\n",
       "      <td>8</td>\n",
       "    </tr>\n",
       "    <tr>\n",
       "      <th>1</th>\n",
       "      <td>78</td>\n",
       "      <td>62</td>\n",
       "      <td>73</td>\n",
       "      <td>60</td>\n",
       "      <td>71</td>\n",
       "      <td>70</td>\n",
       "      <td>73</td>\n",
       "      <td>84</td>\n",
       "      <td>91</td>\n",
       "      <td>12</td>\n",
       "      <td>7</td>\n",
       "      <td>1</td>\n",
       "      <td>2</td>\n",
       "      <td>3</td>\n",
       "    </tr>\n",
       "    <tr>\n",
       "      <th>2</th>\n",
       "      <td>71</td>\n",
       "      <td>86</td>\n",
       "      <td>91</td>\n",
       "      <td>87</td>\n",
       "      <td>61</td>\n",
       "      <td>81</td>\n",
       "      <td>72</td>\n",
       "      <td>72</td>\n",
       "      <td>94</td>\n",
       "      <td>11</td>\n",
       "      <td>1</td>\n",
       "      <td>4</td>\n",
       "      <td>1</td>\n",
       "      <td>3</td>\n",
       "    </tr>\n",
       "    <tr>\n",
       "      <th>3</th>\n",
       "      <td>76</td>\n",
       "      <td>87</td>\n",
       "      <td>60</td>\n",
       "      <td>84</td>\n",
       "      <td>89</td>\n",
       "      <td>73</td>\n",
       "      <td>62</td>\n",
       "      <td>88</td>\n",
       "      <td>69</td>\n",
       "      <td>7</td>\n",
       "      <td>1</td>\n",
       "      <td>1</td>\n",
       "      <td>2</td>\n",
       "      <td>5</td>\n",
       "    </tr>\n",
       "    <tr>\n",
       "      <th>4</th>\n",
       "      <td>92</td>\n",
       "      <td>62</td>\n",
       "      <td>90</td>\n",
       "      <td>67</td>\n",
       "      <td>71</td>\n",
       "      <td>89</td>\n",
       "      <td>73</td>\n",
       "      <td>71</td>\n",
       "      <td>73</td>\n",
       "      <td>4</td>\n",
       "      <td>5</td>\n",
       "      <td>4</td>\n",
       "      <td>6</td>\n",
       "      <td>3</td>\n",
       "    </tr>\n",
       "    <tr>\n",
       "      <th>...</th>\n",
       "      <td>...</td>\n",
       "      <td>...</td>\n",
       "      <td>...</td>\n",
       "      <td>...</td>\n",
       "      <td>...</td>\n",
       "      <td>...</td>\n",
       "      <td>...</td>\n",
       "      <td>...</td>\n",
       "      <td>...</td>\n",
       "      <td>...</td>\n",
       "      <td>...</td>\n",
       "      <td>...</td>\n",
       "      <td>...</td>\n",
       "      <td>...</td>\n",
       "    </tr>\n",
       "    <tr>\n",
       "      <th>19995</th>\n",
       "      <td>83</td>\n",
       "      <td>67</td>\n",
       "      <td>62</td>\n",
       "      <td>63</td>\n",
       "      <td>81</td>\n",
       "      <td>74</td>\n",
       "      <td>90</td>\n",
       "      <td>84</td>\n",
       "      <td>69</td>\n",
       "      <td>4</td>\n",
       "      <td>2</td>\n",
       "      <td>6</td>\n",
       "      <td>1</td>\n",
       "      <td>8</td>\n",
       "    </tr>\n",
       "    <tr>\n",
       "      <th>19996</th>\n",
       "      <td>80</td>\n",
       "      <td>69</td>\n",
       "      <td>83</td>\n",
       "      <td>87</td>\n",
       "      <td>82</td>\n",
       "      <td>66</td>\n",
       "      <td>66</td>\n",
       "      <td>92</td>\n",
       "      <td>67</td>\n",
       "      <td>7</td>\n",
       "      <td>8</td>\n",
       "      <td>0</td>\n",
       "      <td>9</td>\n",
       "      <td>8</td>\n",
       "    </tr>\n",
       "    <tr>\n",
       "      <th>19997</th>\n",
       "      <td>83</td>\n",
       "      <td>70</td>\n",
       "      <td>80</td>\n",
       "      <td>87</td>\n",
       "      <td>64</td>\n",
       "      <td>85</td>\n",
       "      <td>69</td>\n",
       "      <td>94</td>\n",
       "      <td>88</td>\n",
       "      <td>7</td>\n",
       "      <td>3</td>\n",
       "      <td>6</td>\n",
       "      <td>2</td>\n",
       "      <td>3</td>\n",
       "    </tr>\n",
       "    <tr>\n",
       "      <th>19998</th>\n",
       "      <td>68</td>\n",
       "      <td>87</td>\n",
       "      <td>91</td>\n",
       "      <td>88</td>\n",
       "      <td>66</td>\n",
       "      <td>74</td>\n",
       "      <td>61</td>\n",
       "      <td>87</td>\n",
       "      <td>61</td>\n",
       "      <td>5</td>\n",
       "      <td>1</td>\n",
       "      <td>4</td>\n",
       "      <td>9</td>\n",
       "      <td>5</td>\n",
       "    </tr>\n",
       "    <tr>\n",
       "      <th>19999</th>\n",
       "      <td>73</td>\n",
       "      <td>77</td>\n",
       "      <td>74</td>\n",
       "      <td>84</td>\n",
       "      <td>70</td>\n",
       "      <td>65</td>\n",
       "      <td>92</td>\n",
       "      <td>73</td>\n",
       "      <td>90</td>\n",
       "      <td>7</td>\n",
       "      <td>3</td>\n",
       "      <td>1</td>\n",
       "      <td>7</td>\n",
       "      <td>6</td>\n",
       "    </tr>\n",
       "  </tbody>\n",
       "</table>\n",
       "<p>20000 rows × 14 columns</p>\n",
       "</div>"
      ],
      "text/plain": [
       "       Acedamic percentage in Operating Systems  percentage in Algorithms  \\\n",
       "0                                            69                        63   \n",
       "1                                            78                        62   \n",
       "2                                            71                        86   \n",
       "3                                            76                        87   \n",
       "4                                            92                        62   \n",
       "...                                         ...                       ...   \n",
       "19995                                        83                        67   \n",
       "19996                                        80                        69   \n",
       "19997                                        83                        70   \n",
       "19998                                        68                        87   \n",
       "19999                                        73                        77   \n",
       "\n",
       "       Percentage in Programming Concepts  Percentage in Software Engineering  \\\n",
       "0                                      78                                  87   \n",
       "1                                      73                                  60   \n",
       "2                                      91                                  87   \n",
       "3                                      60                                  84   \n",
       "4                                      90                                  67   \n",
       "...                                   ...                                 ...   \n",
       "19995                                  62                                  63   \n",
       "19996                                  83                                  87   \n",
       "19997                                  80                                  87   \n",
       "19998                                  91                                  88   \n",
       "19999                                  74                                  84   \n",
       "\n",
       "       Percentage in Computer Networks  Percentage in Electronics Subjects  \\\n",
       "0                                   94                                  94   \n",
       "1                                   71                                  70   \n",
       "2                                   61                                  81   \n",
       "3                                   89                                  73   \n",
       "4                                   71                                  89   \n",
       "...                                ...                                 ...   \n",
       "19995                               81                                  74   \n",
       "19996                               82                                  66   \n",
       "19997                               64                                  85   \n",
       "19998                               66                                  74   \n",
       "19999                               70                                  65   \n",
       "\n",
       "       Percentage in Computer Architecture  Percentage in Mathematics  \\\n",
       "0                                       87                         84   \n",
       "1                                       73                         84   \n",
       "2                                       72                         72   \n",
       "3                                       62                         88   \n",
       "4                                       73                         71   \n",
       "...                                    ...                        ...   \n",
       "19995                                   90                         84   \n",
       "19996                                   66                         92   \n",
       "19997                                   69                         94   \n",
       "19998                                   61                         87   \n",
       "19999                                   92                         73   \n",
       "\n",
       "       Percentage in Communication skills  Hours working per day  \\\n",
       "0                                      61                      9   \n",
       "1                                      91                     12   \n",
       "2                                      94                     11   \n",
       "3                                      69                      7   \n",
       "4                                      73                      4   \n",
       "...                                   ...                    ...   \n",
       "19995                                  69                      4   \n",
       "19996                                  67                      7   \n",
       "19997                                  88                      7   \n",
       "19998                                  61                      5   \n",
       "19999                                  90                      7   \n",
       "\n",
       "       Logical quotient rating  hackathons  coding skills rating  \\\n",
       "0                            4           0                     4   \n",
       "1                            7           1                     2   \n",
       "2                            1           4                     1   \n",
       "3                            1           1                     2   \n",
       "4                            5           4                     6   \n",
       "...                        ...         ...                   ...   \n",
       "19995                        2           6                     1   \n",
       "19996                        8           0                     9   \n",
       "19997                        3           6                     2   \n",
       "19998                        1           4                     9   \n",
       "19999                        3           1                     7   \n",
       "\n",
       "       public speaking points  \n",
       "0                           8  \n",
       "1                           3  \n",
       "2                           3  \n",
       "3                           5  \n",
       "4                           3  \n",
       "...                       ...  \n",
       "19995                       8  \n",
       "19996                       8  \n",
       "19997                       3  \n",
       "19998                       5  \n",
       "19999                       6  \n",
       "\n",
       "[20000 rows x 14 columns]"
      ]
     },
     "execution_count": 28,
     "metadata": {},
     "output_type": "execute_result"
    }
   ],
   "source": [
    "dataset.iloc[:,:14]"
   ]
  },
  {
   "cell_type": "code",
   "execution_count": 29,
   "metadata": {},
   "outputs": [],
   "source": [
    "from sklearn.preprocessing import LabelEncoder, OneHotEncoder"
   ]
  },
  {
   "cell_type": "code",
   "execution_count": 30,
   "metadata": {},
   "outputs": [],
   "source": [
    "labelencoder = LabelEncoder()"
   ]
  },
  {
   "cell_type": "code",
   "execution_count": 31,
   "metadata": {},
   "outputs": [
    {
     "data": {
      "text/plain": [
       "array([69, 63, 78, 87, 94, 94, 87, 84, 61, 9, 4, 0, 4, 8, 1, 1, 1, 8, 0,\n",
       "       0, 1, 0, 0, 4, 4, 0, 8, 0, 0, 21, 1, 0, 1, 0, 0, 0, 1, 0],\n",
       "      dtype=object)"
      ]
     },
     "execution_count": 31,
     "metadata": {},
     "output_type": "execute_result"
    }
   ],
   "source": [
    "for i in range(14,38):\n",
    "    data[:,i] = labelencoder.fit_transform(data[:,i])\n",
    "data[0]"
   ]
  },
  {
   "cell_type": "code",
   "execution_count": 32,
   "metadata": {},
   "outputs": [
    {
     "data": {
      "text/plain": [
       "array([[1, 1, 1, 8, 0, 0, 1, 0, 0, 4, 4, 0, 8, 0, 0, 21, 1, 0, 1, 0, 0,\n",
       "        0, 1, 0],\n",
       "       [1, 0, 1, 5, 2, 0, 0, 2, 1, 7, 0, 1, 4, 1, 1, 5, 1, 1, 0, 1, 0, 0,\n",
       "        0, 1],\n",
       "       [1, 0, 1, 0, 7, 0, 1, 2, 0, 6, 2, 0, 5, 1, 1, 29, 0, 0, 1, 0, 1,\n",
       "        0, 0, 1],\n",
       "       [0, 1, 0, 6, 1, 1, 0, 1, 0, 7, 5, 0, 7, 0, 0, 23, 0, 1, 0, 0, 1,\n",
       "        1, 1, 1],\n",
       "       [0, 0, 0, 0, 0, 0, 0, 2, 0, 0, 5, 0, 9, 0, 1, 7, 1, 0, 1, 0, 1, 0,\n",
       "        1, 1]], dtype=object)"
      ]
     },
     "execution_count": 32,
     "metadata": {},
     "output_type": "execute_result"
    }
   ],
   "source": [
    "data[:5,14:]"
   ]
  },
  {
   "cell_type": "code",
   "execution_count": 33,
   "metadata": {},
   "outputs": [],
   "source": [
    "from sklearn.preprocessing import Normalizer"
   ]
  },
  {
   "cell_type": "code",
   "execution_count": 35,
   "metadata": {},
   "outputs": [],
   "source": [
    "data1=data[:,:14]"
   ]
  },
  {
   "cell_type": "code",
   "execution_count": 36,
   "metadata": {},
   "outputs": [
    {
     "name": "stdout",
     "output_type": "stream",
     "text": [
      "(20000, 14)\n"
     ]
    }
   ],
   "source": [
    "normalized_data = Normalizer().fit_transform(data1)\n",
    "print(normalized_data.shape)"
   ]
  },
  {
   "cell_type": "code",
   "execution_count": 37,
   "metadata": {},
   "outputs": [
    {
     "data": {
      "text/plain": [
       "array([[0.28508989, 0.26029947, 0.32227553, ..., 0.        , 0.01652695,\n",
       "        0.0330539 ],\n",
       "       [0.34997994, 0.27818918, 0.32754533, ..., 0.00448692, 0.00897384,\n",
       "        0.01346077],\n",
       "       [0.29501244, 0.35733901, 0.37811453, ..., 0.01662042, 0.0041551 ,\n",
       "        0.01246531],\n",
       "       ...,\n",
       "       [0.3430836 , 0.28934762, 0.33068299, ..., 0.02480122, 0.00826707,\n",
       "        0.01240061],\n",
       "       [0.29479246, 0.37716094, 0.39450167, ..., 0.01734073, 0.03901665,\n",
       "        0.02167592],\n",
       "       [0.31140896, 0.32847247, 0.31567484, ..., 0.00426588, 0.02986113,\n",
       "        0.02559526]])"
      ]
     },
     "execution_count": 37,
     "metadata": {},
     "output_type": "execute_result"
    }
   ],
   "source": [
    "normalized_data"
   ]
  },
  {
   "cell_type": "code",
   "execution_count": 38,
   "metadata": {},
   "outputs": [
    {
     "data": {
      "text/plain": [
       "(20000, 24)"
      ]
     },
     "execution_count": 38,
     "metadata": {},
     "output_type": "execute_result"
    }
   ],
   "source": [
    "data2=data[:,14:]\n",
    "data2.shape"
   ]
  },
  {
   "cell_type": "code",
   "execution_count": 39,
   "metadata": {},
   "outputs": [
    {
     "data": {
      "text/plain": [
       "(20000, 38)"
      ]
     },
     "execution_count": 39,
     "metadata": {},
     "output_type": "execute_result"
    }
   ],
   "source": [
    "df1 = np.append(normalized_data,data2,axis=1)\n",
    "\n",
    "df1.shape"
   ]
  },
  {
   "cell_type": "markdown",
   "metadata": {},
   "source": [
    "## adding headers"
   ]
  },
  {
   "cell_type": "code",
   "execution_count": 40,
   "metadata": {},
   "outputs": [],
   "source": [
    "X1 = pd.DataFrame(df1,columns=['Acedamic percentage in Operating Systems', 'percentage in Algorithms',\n",
    "       'Percentage in Programming Concepts',\n",
    "       'Percentage in Software Engineering', 'Percentage in Computer Networks',\n",
    "       'Percentage in Electronics Subjects',\n",
    "       'Percentage in Computer Architecture', 'Percentage in Mathematics',\n",
    "       'Percentage in Communication skills', 'Hours working per day',\n",
    "       'Logical quotient rating', 'hackathons', 'coding skills rating',\n",
    "       'public speaking points', 'can work long time before system?',\n",
    "       'self-learning capability?', 'Extra-courses did', 'certifications',\n",
    "       'workshops', 'talenttests taken?', 'olympiads',\n",
    "       'reading and writing skills', 'memory capability score',\n",
    "       'Interested subjects', 'interested career area ', 'Job/Higher Studies?',\n",
    "       'Type of company want to settle in?',\n",
    "       'Taken inputs from seniors or elders', 'interested in games',\n",
    "       'Interested Type of Books', 'Salary Range Expected',\n",
    "       'In a Realtionship?', 'Gentle or Tuff behaviour?',\n",
    "       'Management or Technical', 'Salary/work', 'hard/smart worker',\n",
    "       'worked in teams ever?', 'Introvert'])"
   ]
  },
  {
   "cell_type": "code",
   "execution_count": 41,
   "metadata": {},
   "outputs": [
    {
     "data": {
      "text/html": [
       "<div>\n",
       "<style scoped>\n",
       "    .dataframe tbody tr th:only-of-type {\n",
       "        vertical-align: middle;\n",
       "    }\n",
       "\n",
       "    .dataframe tbody tr th {\n",
       "        vertical-align: top;\n",
       "    }\n",
       "\n",
       "    .dataframe thead th {\n",
       "        text-align: right;\n",
       "    }\n",
       "</style>\n",
       "<table border=\"1\" class=\"dataframe\">\n",
       "  <thead>\n",
       "    <tr style=\"text-align: right;\">\n",
       "      <th></th>\n",
       "      <th>Acedamic percentage in Operating Systems</th>\n",
       "      <th>percentage in Algorithms</th>\n",
       "      <th>Percentage in Programming Concepts</th>\n",
       "      <th>Percentage in Software Engineering</th>\n",
       "      <th>Percentage in Computer Networks</th>\n",
       "      <th>Percentage in Electronics Subjects</th>\n",
       "      <th>Percentage in Computer Architecture</th>\n",
       "      <th>Percentage in Mathematics</th>\n",
       "      <th>Percentage in Communication skills</th>\n",
       "      <th>Hours working per day</th>\n",
       "      <th>...</th>\n",
       "      <th>interested in games</th>\n",
       "      <th>Interested Type of Books</th>\n",
       "      <th>Salary Range Expected</th>\n",
       "      <th>In a Realtionship?</th>\n",
       "      <th>Gentle or Tuff behaviour?</th>\n",
       "      <th>Management or Technical</th>\n",
       "      <th>Salary/work</th>\n",
       "      <th>hard/smart worker</th>\n",
       "      <th>worked in teams ever?</th>\n",
       "      <th>Introvert</th>\n",
       "    </tr>\n",
       "  </thead>\n",
       "  <tbody>\n",
       "    <tr>\n",
       "      <th>0</th>\n",
       "      <td>0.28509</td>\n",
       "      <td>0.260299</td>\n",
       "      <td>0.322276</td>\n",
       "      <td>0.359461</td>\n",
       "      <td>0.388383</td>\n",
       "      <td>0.388383</td>\n",
       "      <td>0.359461</td>\n",
       "      <td>0.347066</td>\n",
       "      <td>0.252036</td>\n",
       "      <td>0.0371856</td>\n",
       "      <td>...</td>\n",
       "      <td>0</td>\n",
       "      <td>21</td>\n",
       "      <td>1</td>\n",
       "      <td>0</td>\n",
       "      <td>1</td>\n",
       "      <td>0</td>\n",
       "      <td>0</td>\n",
       "      <td>0</td>\n",
       "      <td>1</td>\n",
       "      <td>0</td>\n",
       "    </tr>\n",
       "    <tr>\n",
       "      <th>1</th>\n",
       "      <td>0.34998</td>\n",
       "      <td>0.278189</td>\n",
       "      <td>0.327545</td>\n",
       "      <td>0.269215</td>\n",
       "      <td>0.318571</td>\n",
       "      <td>0.314085</td>\n",
       "      <td>0.327545</td>\n",
       "      <td>0.376901</td>\n",
       "      <td>0.40831</td>\n",
       "      <td>0.0538431</td>\n",
       "      <td>...</td>\n",
       "      <td>1</td>\n",
       "      <td>5</td>\n",
       "      <td>1</td>\n",
       "      <td>1</td>\n",
       "      <td>0</td>\n",
       "      <td>1</td>\n",
       "      <td>0</td>\n",
       "      <td>0</td>\n",
       "      <td>0</td>\n",
       "      <td>1</td>\n",
       "    </tr>\n",
       "    <tr>\n",
       "      <th>2</th>\n",
       "      <td>0.295012</td>\n",
       "      <td>0.357339</td>\n",
       "      <td>0.378115</td>\n",
       "      <td>0.361494</td>\n",
       "      <td>0.253461</td>\n",
       "      <td>0.336563</td>\n",
       "      <td>0.299168</td>\n",
       "      <td>0.299168</td>\n",
       "      <td>0.39058</td>\n",
       "      <td>0.0457062</td>\n",
       "      <td>...</td>\n",
       "      <td>1</td>\n",
       "      <td>29</td>\n",
       "      <td>0</td>\n",
       "      <td>0</td>\n",
       "      <td>1</td>\n",
       "      <td>0</td>\n",
       "      <td>1</td>\n",
       "      <td>0</td>\n",
       "      <td>0</td>\n",
       "      <td>1</td>\n",
       "    </tr>\n",
       "    <tr>\n",
       "      <th>3</th>\n",
       "      <td>0.328025</td>\n",
       "      <td>0.375503</td>\n",
       "      <td>0.258967</td>\n",
       "      <td>0.362554</td>\n",
       "      <td>0.384135</td>\n",
       "      <td>0.315077</td>\n",
       "      <td>0.2676</td>\n",
       "      <td>0.379819</td>\n",
       "      <td>0.297812</td>\n",
       "      <td>0.0302129</td>\n",
       "      <td>...</td>\n",
       "      <td>0</td>\n",
       "      <td>23</td>\n",
       "      <td>0</td>\n",
       "      <td>1</td>\n",
       "      <td>0</td>\n",
       "      <td>0</td>\n",
       "      <td>1</td>\n",
       "      <td>1</td>\n",
       "      <td>1</td>\n",
       "      <td>1</td>\n",
       "    </tr>\n",
       "    <tr>\n",
       "      <th>4</th>\n",
       "      <td>0.397157</td>\n",
       "      <td>0.267649</td>\n",
       "      <td>0.388523</td>\n",
       "      <td>0.289234</td>\n",
       "      <td>0.306502</td>\n",
       "      <td>0.384206</td>\n",
       "      <td>0.315136</td>\n",
       "      <td>0.306502</td>\n",
       "      <td>0.315136</td>\n",
       "      <td>0.0172677</td>\n",
       "      <td>...</td>\n",
       "      <td>1</td>\n",
       "      <td>7</td>\n",
       "      <td>1</td>\n",
       "      <td>0</td>\n",
       "      <td>1</td>\n",
       "      <td>0</td>\n",
       "      <td>1</td>\n",
       "      <td>0</td>\n",
       "      <td>1</td>\n",
       "      <td>1</td>\n",
       "    </tr>\n",
       "  </tbody>\n",
       "</table>\n",
       "<p>5 rows × 38 columns</p>\n",
       "</div>"
      ],
      "text/plain": [
       "  Acedamic percentage in Operating Systems percentage in Algorithms  \\\n",
       "0                                  0.28509                 0.260299   \n",
       "1                                  0.34998                 0.278189   \n",
       "2                                 0.295012                 0.357339   \n",
       "3                                 0.328025                 0.375503   \n",
       "4                                 0.397157                 0.267649   \n",
       "\n",
       "  Percentage in Programming Concepts Percentage in Software Engineering  \\\n",
       "0                           0.322276                           0.359461   \n",
       "1                           0.327545                           0.269215   \n",
       "2                           0.378115                           0.361494   \n",
       "3                           0.258967                           0.362554   \n",
       "4                           0.388523                           0.289234   \n",
       "\n",
       "  Percentage in Computer Networks Percentage in Electronics Subjects  \\\n",
       "0                        0.388383                           0.388383   \n",
       "1                        0.318571                           0.314085   \n",
       "2                        0.253461                           0.336563   \n",
       "3                        0.384135                           0.315077   \n",
       "4                        0.306502                           0.384206   \n",
       "\n",
       "  Percentage in Computer Architecture Percentage in Mathematics  \\\n",
       "0                            0.359461                  0.347066   \n",
       "1                            0.327545                  0.376901   \n",
       "2                            0.299168                  0.299168   \n",
       "3                              0.2676                  0.379819   \n",
       "4                            0.315136                  0.306502   \n",
       "\n",
       "  Percentage in Communication skills Hours working per day  ...  \\\n",
       "0                           0.252036             0.0371856  ...   \n",
       "1                            0.40831             0.0538431  ...   \n",
       "2                            0.39058             0.0457062  ...   \n",
       "3                           0.297812             0.0302129  ...   \n",
       "4                           0.315136             0.0172677  ...   \n",
       "\n",
       "  interested in games Interested Type of Books Salary Range Expected  \\\n",
       "0                   0                       21                     1   \n",
       "1                   1                        5                     1   \n",
       "2                   1                       29                     0   \n",
       "3                   0                       23                     0   \n",
       "4                   1                        7                     1   \n",
       "\n",
       "  In a Realtionship? Gentle or Tuff behaviour? Management or Technical  \\\n",
       "0                  0                         1                       0   \n",
       "1                  1                         0                       1   \n",
       "2                  0                         1                       0   \n",
       "3                  1                         0                       0   \n",
       "4                  0                         1                       0   \n",
       "\n",
       "  Salary/work hard/smart worker worked in teams ever? Introvert  \n",
       "0           0                 0                     1         0  \n",
       "1           0                 0                     0         1  \n",
       "2           1                 0                     0         1  \n",
       "3           1                 1                     1         1  \n",
       "4           1                 0                     1         1  \n",
       "\n",
       "[5 rows x 38 columns]"
      ]
     },
     "execution_count": 41,
     "metadata": {},
     "output_type": "execute_result"
    }
   ],
   "source": [
    "X1.head()"
   ]
  },
  {
   "cell_type": "code",
   "execution_count": 42,
   "metadata": {},
   "outputs": [
    {
     "name": "stdout",
     "output_type": "stream",
     "text": [
      "20000\n"
     ]
    }
   ],
   "source": [
    "label = labelencoder.fit_transform(label)\n",
    "print(len(label))"
   ]
  },
  {
   "cell_type": "code",
   "execution_count": 43,
   "metadata": {},
   "outputs": [
    {
     "data": {
      "text/html": [
       "<div>\n",
       "<style scoped>\n",
       "    .dataframe tbody tr th:only-of-type {\n",
       "        vertical-align: middle;\n",
       "    }\n",
       "\n",
       "    .dataframe tbody tr th {\n",
       "        vertical-align: top;\n",
       "    }\n",
       "\n",
       "    .dataframe thead th {\n",
       "        text-align: right;\n",
       "    }\n",
       "</style>\n",
       "<table border=\"1\" class=\"dataframe\">\n",
       "  <thead>\n",
       "    <tr style=\"text-align: right;\">\n",
       "      <th></th>\n",
       "      <th>Suggested Job Role</th>\n",
       "    </tr>\n",
       "  </thead>\n",
       "  <tbody>\n",
       "    <tr>\n",
       "      <th>0</th>\n",
       "      <td>7</td>\n",
       "    </tr>\n",
       "    <tr>\n",
       "      <th>1</th>\n",
       "      <td>18</td>\n",
       "    </tr>\n",
       "    <tr>\n",
       "      <th>2</th>\n",
       "      <td>18</td>\n",
       "    </tr>\n",
       "    <tr>\n",
       "      <th>3</th>\n",
       "      <td>28</td>\n",
       "    </tr>\n",
       "    <tr>\n",
       "      <th>4</th>\n",
       "      <td>2</td>\n",
       "    </tr>\n",
       "  </tbody>\n",
       "</table>\n",
       "</div>"
      ],
      "text/plain": [
       "   Suggested Job Role\n",
       "0                   7\n",
       "1                  18\n",
       "2                  18\n",
       "3                  28\n",
       "4                   2"
      ]
     },
     "execution_count": 43,
     "metadata": {},
     "output_type": "execute_result"
    }
   ],
   "source": [
    "y=pd.DataFrame(label,columns=[\"Suggested Job Role\"])\n",
    "y.head()"
   ]
  },
  {
   "cell_type": "code",
   "execution_count": null,
   "metadata": {
    "collapsed": true
   },
   "outputs": [],
   "source": []
  },
  {
   "cell_type": "code",
   "execution_count": null,
   "metadata": {
    "collapsed": true
   },
   "outputs": [],
   "source": []
  },
  {
   "cell_type": "markdown",
   "metadata": {},
   "source": [
    "# Decision Tree Classifier "
   ]
  },
  {
   "cell_type": "code",
   "execution_count": 44,
   "metadata": {},
   "outputs": [],
   "source": [
    "from sklearn import tree\n",
    "from sklearn.model_selection import train_test_split\n",
    "from sklearn import preprocessing \n",
    "from sklearn.metrics import accuracy_score"
   ]
  },
  {
   "cell_type": "code",
   "execution_count": 45,
   "metadata": {},
   "outputs": [],
   "source": [
    "X_train,X_test,y_train,y_test=train_test_split(X1,y,test_size=0.2,random_state=10) "
   ]
  },
  {
   "cell_type": "code",
   "execution_count": 46,
   "metadata": {},
   "outputs": [],
   "source": [
    "clf = tree.DecisionTreeClassifier()\n",
    "clf = clf.fit(X_train, y_train)"
   ]
  },
  {
   "cell_type": "code",
   "execution_count": 47,
   "metadata": {},
   "outputs": [],
   "source": [
    "from sklearn.metrics import confusion_matrix,accuracy_score"
   ]
  },
  {
   "cell_type": "code",
   "execution_count": 48,
   "metadata": {},
   "outputs": [],
   "source": [
    "y_pred = clf.predict(X_test)"
   ]
  },
  {
   "cell_type": "code",
   "execution_count": 49,
   "metadata": {},
   "outputs": [
    {
     "data": {
      "text/plain": [
       "array([24,  6, 15, ..., 23, 28, 28])"
      ]
     },
     "execution_count": 49,
     "metadata": {},
     "output_type": "execute_result"
    }
   ],
   "source": [
    "y_pred"
   ]
  },
  {
   "cell_type": "code",
   "execution_count": 50,
   "metadata": {},
   "outputs": [],
   "source": [
    "cm = confusion_matrix(y_test,y_pred)\n",
    "accuracy = accuracy_score(y_test,y_pred)"
   ]
  },
  {
   "cell_type": "code",
   "execution_count": 51,
   "metadata": {},
   "outputs": [
    {
     "data": {
      "text/plain": [
       "array([[3, 9, 3, ..., 3, 3, 4],\n",
       "       [4, 4, 1, ..., 3, 2, 2],\n",
       "       [5, 2, 2, ..., 2, 0, 6],\n",
       "       ...,\n",
       "       [6, 1, 2, ..., 2, 1, 5],\n",
       "       [3, 4, 3, ..., 6, 3, 4],\n",
       "       [5, 6, 2, ..., 2, 4, 1]], dtype=int64)"
      ]
     },
     "execution_count": 51,
     "metadata": {},
     "output_type": "execute_result"
    }
   ],
   "source": [
    "cm"
   ]
  },
  {
   "cell_type": "code",
   "execution_count": 52,
   "metadata": {},
   "outputs": [
    {
     "data": {
      "text/plain": [
       "0.02875"
      ]
     },
     "execution_count": 52,
     "metadata": {},
     "output_type": "execute_result"
    }
   ],
   "source": [
    "accuracy"
   ]
  },
  {
   "cell_type": "code",
   "execution_count": 53,
   "metadata": {},
   "outputs": [
    {
     "name": "stdout",
     "output_type": "stream",
     "text": [
      "confusion matrics= [[3 9 3 ... 3 3 4]\n",
      " [4 4 1 ... 3 2 2]\n",
      " [5 2 2 ... 2 0 6]\n",
      " ...\n",
      " [6 1 2 ... 2 1 5]\n",
      " [3 4 3 ... 6 3 4]\n",
      " [5 6 2 ... 2 4 1]]\n",
      "  \n",
      "accuracy= 2.875\n"
     ]
    }
   ],
   "source": [
    "print(\"confusion matrics=\",cm)\n",
    "print(\"  \")\n",
    "print(\"accuracy=\",accuracy*100)"
   ]
  },
  {
   "cell_type": "code",
   "execution_count": null,
   "metadata": {
    "collapsed": true
   },
   "outputs": [],
   "source": []
  },
  {
   "cell_type": "markdown",
   "metadata": {},
   "source": [
    "# Decision tree with entropy"
   ]
  },
  {
   "cell_type": "code",
   "execution_count": 89,
   "metadata": {},
   "outputs": [
    {
     "data": {
      "text/plain": [
       "DecisionTreeClassifier(ccp_alpha=0.0, class_weight=None, criterion='entropy',\n",
       "                       max_depth=None, max_features=None, max_leaf_nodes=None,\n",
       "                       min_impurity_decrease=0.0, min_impurity_split=None,\n",
       "                       min_samples_leaf=1, min_samples_split=2,\n",
       "                       min_weight_fraction_leaf=0.0, presort='deprecated',\n",
       "                       random_state=42, splitter='best')"
      ]
     },
     "execution_count": 89,
     "metadata": {},
     "output_type": "execute_result"
    }
   ],
   "source": [
    "clf_entropy = tree.DecisionTreeClassifier(criterion = \"entropy\", random_state = 42)\n",
    "clf_entropy.fit(X_train, y_train)"
   ]
  },
  {
   "cell_type": "code",
   "execution_count": 90,
   "metadata": {},
   "outputs": [],
   "source": [
    "entropy_y_pred=clf_entropy.predict(X_test)"
   ]
  },
  {
   "cell_type": "code",
   "execution_count": 91,
   "metadata": {},
   "outputs": [],
   "source": [
    "cm_entopy = confusion_matrix(y_test,entropy_y_pred)"
   ]
  },
  {
   "cell_type": "code",
   "execution_count": 92,
   "metadata": {},
   "outputs": [],
   "source": [
    "entropy_accuracy = accuracy_score(y_test,entropy_y_pred)"
   ]
  },
  {
   "cell_type": "code",
   "execution_count": 93,
   "metadata": {},
   "outputs": [
    {
     "name": "stdout",
     "output_type": "stream",
     "text": [
      "confusion matrics= [[1 4 6 ... 4 6 5]\n",
      " [2 4 1 ... 1 3 5]\n",
      " [2 7 1 ... 0 3 6]\n",
      " ...\n",
      " [2 2 1 ... 4 2 2]\n",
      " [2 3 9 ... 3 4 1]\n",
      " [1 5 5 ... 5 6 2]]\n",
      "  \n",
      "accuracy= 2.875\n"
     ]
    }
   ],
   "source": [
    "print(\"confusion matrics=\",cm_entopy)\n",
    "print(\"  \")\n",
    "print(\"accuracy=\",entropy_accuracy*100)"
   ]
  },
  {
   "cell_type": "code",
   "execution_count": null,
   "metadata": {},
   "outputs": [],
   "source": []
  },
  {
   "cell_type": "markdown",
   "metadata": {},
   "source": [
    "# SVM (Support vector machine) classifier"
   ]
  },
  {
   "cell_type": "code",
   "execution_count": 59,
   "metadata": {},
   "outputs": [],
   "source": [
    "from sklearn import svm"
   ]
  },
  {
   "cell_type": "code",
   "execution_count": 95,
   "metadata": {},
   "outputs": [
    {
     "name": "stderr",
     "output_type": "stream",
     "text": [
      "c:\\users\\kajanan\\anaconda3\\envs\\cp\\lib\\site-packages\\sklearn\\utils\\validation.py:760: DataConversionWarning: A column-vector y was passed when a 1d array was expected. Please change the shape of y to (n_samples, ), for example using ravel().\n",
      "  y = column_or_1d(y, warn=True)\n"
     ]
    },
    {
     "data": {
      "text/plain": [
       "SVC(C=1.0, break_ties=False, cache_size=200, class_weight=None, coef0=0.0,\n",
       "    decision_function_shape='ovr', degree=3, gamma='scale', kernel='rbf',\n",
       "    max_iter=-1, probability=False, random_state=None, shrinking=True,\n",
       "    tol=0.001, verbose=False)"
      ]
     },
     "execution_count": 95,
     "metadata": {},
     "output_type": "execute_result"
    }
   ],
   "source": [
    "clf = svm.SVC()\n",
    "clf.fit(X_train, y_train)"
   ]
  },
  {
   "cell_type": "code",
   "execution_count": 96,
   "metadata": {},
   "outputs": [],
   "source": [
    "svm_y_pred = clf.predict(X_test)"
   ]
  },
  {
   "cell_type": "code",
   "execution_count": 97,
   "metadata": {},
   "outputs": [],
   "source": [
    "svm_cm = confusion_matrix(y_test,svm_y_pred)\n",
    "svm_accuracy = accuracy_score(y_test,svm_y_pred)"
   ]
  },
  {
   "cell_type": "code",
   "execution_count": 98,
   "metadata": {},
   "outputs": [
    {
     "name": "stdout",
     "output_type": "stream",
     "text": [
      "confusion matrics= [[0 0 0 ... 0 0 0]\n",
      " [0 0 0 ... 0 0 0]\n",
      " [0 0 0 ... 0 0 0]\n",
      " ...\n",
      " [0 0 0 ... 0 0 0]\n",
      " [0 0 0 ... 0 0 0]\n",
      " [0 0 0 ... 0 0 0]]\n",
      "  \n",
      "accuracy= 5.35\n"
     ]
    }
   ],
   "source": [
    "print(\"confusion matrics=\",svm_cm)\n",
    "print(\"  \")\n",
    "print(\"accuracy=\",svm_accuracy*100)"
   ]
  },
  {
   "cell_type": "code",
   "execution_count": null,
   "metadata": {},
   "outputs": [],
   "source": []
  },
  {
   "cell_type": "markdown",
   "metadata": {},
   "source": [
    "#  xgboost"
   ]
  },
  {
   "cell_type": "code",
   "execution_count": null,
   "metadata": {
    "collapsed": true
   },
   "outputs": [],
   "source": []
  },
  {
   "cell_type": "markdown",
   "metadata": {},
   "source": [
    "# changing data type to int64"
   ]
  },
  {
   "cell_type": "code",
   "execution_count": 76,
   "metadata": {
    "collapsed": true
   },
   "outputs": [],
   "source": [
    "X_train,X_test,y_train,y_test=train_test_split(X1,y,test_size=0.3,random_state=10) "
   ]
  },
  {
   "cell_type": "code",
   "execution_count": 77,
   "metadata": {},
   "outputs": [
    {
     "data": {
      "text/plain": [
       "(14000, 38)"
      ]
     },
     "execution_count": 77,
     "metadata": {},
     "output_type": "execute_result"
    }
   ],
   "source": [
    "X_train.shape"
   ]
  },
  {
   "cell_type": "code",
   "execution_count": 64,
   "metadata": {},
   "outputs": [],
   "source": [
    "X_train=pd.to_numeric(X_train.values.flatten())"
   ]
  },
  {
   "cell_type": "code",
   "execution_count": 66,
   "metadata": {},
   "outputs": [],
   "source": [
    "X_train=X_train.reshape((16000,38))"
   ]
  },
  {
   "cell_type": "code",
   "execution_count": null,
   "metadata": {},
   "outputs": [],
   "source": []
  },
  {
   "cell_type": "code",
   "execution_count": 71,
   "metadata": {},
   "outputs": [],
   "source": [
    "from xgboost import XGBClassifier"
   ]
  },
  {
   "cell_type": "code",
   "execution_count": 72,
   "metadata": {},
   "outputs": [
    {
     "name": "stderr",
     "output_type": "stream",
     "text": [
      "c:\\users\\kajanan\\anaconda3\\envs\\cp\\lib\\site-packages\\sklearn\\preprocessing\\_label.py:235: DataConversionWarning: A column-vector y was passed when a 1d array was expected. Please change the shape of y to (n_samples, ), for example using ravel().\n",
      "  y = column_or_1d(y, warn=True)\n",
      "c:\\users\\kajanan\\anaconda3\\envs\\cp\\lib\\site-packages\\sklearn\\preprocessing\\_label.py:268: DataConversionWarning: A column-vector y was passed when a 1d array was expected. Please change the shape of y to (n_samples, ), for example using ravel().\n",
      "  y = column_or_1d(y, warn=True)\n"
     ]
    },
    {
     "data": {
      "text/plain": [
       "XGBClassifier(base_score=0.5, booster='gbtree', colsample_bylevel=1,\n",
       "              colsample_bynode=1, colsample_bytree=1, gamma=0,\n",
       "              learning_rate=0.1, max_delta_step=0, max_depth=3,\n",
       "              min_child_weight=1, missing=None, n_estimators=100, n_jobs=1,\n",
       "              nthread=None, objective='multi:softprob', random_state=0,\n",
       "              reg_alpha=0, reg_lambda=1, scale_pos_weight=1, seed=None,\n",
       "              silent=None, subsample=1, verbosity=1)"
      ]
     },
     "execution_count": 72,
     "metadata": {},
     "output_type": "execute_result"
    }
   ],
   "source": [
    "model = XGBClassifier()\n",
    "model.fit(X_train, y_train)"
   ]
  },
  {
   "cell_type": "code",
   "execution_count": 73,
   "metadata": {},
   "outputs": [],
   "source": [
    "xgb_y_pred = clf.predict(X_test)"
   ]
  },
  {
   "cell_type": "code",
   "execution_count": 74,
   "metadata": {},
   "outputs": [],
   "source": [
    "xgb_cm = confusion_matrix(y_test,xgb_y_pred)\n",
    "xgb_accuracy = accuracy_score(y_test,xgb_y_pred)\n"
   ]
  },
  {
   "cell_type": "code",
   "execution_count": 75,
   "metadata": {},
   "outputs": [
    {
     "name": "stdout",
     "output_type": "stream",
     "text": [
      "confusion matrics= [[0 0 0 ... 0 0 0]\n",
      " [0 0 0 ... 0 0 0]\n",
      " [0 0 0 ... 0 0 0]\n",
      " ...\n",
      " [0 0 0 ... 0 0 0]\n",
      " [0 0 0 ... 0 0 0]\n",
      " [0 0 0 ... 0 0 0]]\n",
      "  \n",
      "accuracy= 5.6000000000000005\n"
     ]
    }
   ],
   "source": [
    "print(\"confusion matrics=\",xgb_cm)\n",
    "print(\"  \")\n",
    "print(\"accuracy=\",xgb_accuracy*100)"
   ]
  },
  {
   "cell_type": "code",
   "execution_count": null,
   "metadata": {
    "collapsed": true
   },
   "outputs": [],
   "source": [
    "\n",
    "\n"
   ]
  },
  {
   "cell_type": "code",
   "execution_count": null,
   "metadata": {},
   "outputs": [],
   "source": []
  },
  {
   "cell_type": "code",
   "execution_count": 99,
   "metadata": {},
   "outputs": [],
   "source": [
    "#dimentionality redution\n",
    "X_train,X_test,y_train,y_test=train_test_split(X1,y,test_size=0.2,random_state=42) \n",
    "from sklearn.decomposition import PCA\n",
    "pca = PCA(n_components=5)\n",
    "X_train = pca.fit_transform(X_train)\n",
    "X_test = pca.transform(X_test)\n"
   ]
  },
  {
   "cell_type": "code",
   "execution_count": 100,
   "metadata": {},
   "outputs": [
    {
     "name": "stderr",
     "output_type": "stream",
     "text": [
      "c:\\users\\kajanan\\anaconda3\\envs\\cp\\lib\\site-packages\\ipykernel_launcher.py:4: DataConversionWarning: A column-vector y was passed when a 1d array was expected. Please change the shape of y to (n_samples,), for example using ravel().\n",
      "  after removing the cwd from sys.path.\n"
     ]
    },
    {
     "data": {
      "text/plain": [
       "RandomForestClassifier(bootstrap=True, ccp_alpha=0.0, class_weight=None,\n",
       "                       criterion='gini', max_depth=2, max_features='auto',\n",
       "                       max_leaf_nodes=None, max_samples=None,\n",
       "                       min_impurity_decrease=0.0, min_impurity_split=None,\n",
       "                       min_samples_leaf=1, min_samples_split=2,\n",
       "                       min_weight_fraction_leaf=0.0, n_estimators=100,\n",
       "                       n_jobs=None, oob_score=False, random_state=0, verbose=0,\n",
       "                       warm_start=False)"
      ]
     },
     "execution_count": 100,
     "metadata": {},
     "output_type": "execute_result"
    }
   ],
   "source": [
    "from sklearn.ensemble import RandomForestClassifier\n",
    "\n",
    "classifier = RandomForestClassifier(max_depth=2, random_state=0)\n",
    "classifier.fit(X_train, y_train)\n"
   ]
  },
  {
   "cell_type": "code",
   "execution_count": 101,
   "metadata": {},
   "outputs": [],
   "source": [
    "y_pred = classifier.predict(X_test)\n",
    "svm_cm = confusion_matrix(y_test,svm_y_pred)\n",
    "svm_accuracy = accuracy_score(y_test,svm_y_pred)"
   ]
  },
  {
   "cell_type": "code",
   "execution_count": 102,
   "metadata": {},
   "outputs": [
    {
     "data": {
      "text/plain": [
       "0.0535"
      ]
     },
     "execution_count": 102,
     "metadata": {},
     "output_type": "execute_result"
    }
   ],
   "source": [
    "svm_accuracy"
   ]
  },
  {
   "cell_type": "code",
   "execution_count": null,
   "metadata": {},
   "outputs": [],
   "source": []
  }
 ],
 "metadata": {
  "kernelspec": {
   "display_name": "Python 3",
   "language": "python",
   "name": "python3"
  },
  "language_info": {
   "codemirror_mode": {
    "name": "ipython",
    "version": 3
   },
   "file_extension": ".py",
   "mimetype": "text/x-python",
   "name": "python",
   "nbconvert_exporter": "python",
   "pygments_lexer": "ipython3",
   "version": "3.5.6"
  }
 },
 "nbformat": 4,
 "nbformat_minor": 2
}
